{
 "cells": [
  {
   "cell_type": "markdown",
   "id": "35ac6e6f-bd91-45cd-a724-0efa831f7ed2",
   "metadata": {},
   "source": [
    "# 0. Install and Import Dependencies"
   ]
  },
  {
   "cell_type": "code",
   "execution_count": 1,
   "id": "600e7038-c47e-4c19-994f-aeebd385f9a4",
   "metadata": {
    "tags": []
   },
   "outputs": [
    {
     "name": "stdout",
     "output_type": "stream",
     "text": [
      "Requirement already satisfied: mediapipe in c:\\users\\bbd14\\anaconda3\\lib\\site-packages (0.10.11)\n",
      "Requirement already satisfied: opencv-python in c:\\users\\bbd14\\anaconda3\\lib\\site-packages (4.9.0.80)\n",
      "Requirement already satisfied: absl-py in c:\\users\\bbd14\\anaconda3\\lib\\site-packages (from mediapipe) (2.1.0)\n",
      "Requirement already satisfied: attrs>=19.1.0 in c:\\users\\bbd14\\anaconda3\\lib\\site-packages (from mediapipe) (22.1.0)\n",
      "Requirement already satisfied: flatbuffers>=2.0 in c:\\users\\bbd14\\anaconda3\\lib\\site-packages (from mediapipe) (24.3.25)\n",
      "Requirement already satisfied: jax in c:\\users\\bbd14\\anaconda3\\lib\\site-packages (from mediapipe) (0.4.25)\n",
      "Requirement already satisfied: matplotlib in c:\\users\\bbd14\\anaconda3\\lib\\site-packages (from mediapipe) (3.7.2)\n",
      "Requirement already satisfied: numpy in c:\\users\\bbd14\\anaconda3\\lib\\site-packages (from mediapipe) (1.24.3)\n",
      "Requirement already satisfied: opencv-contrib-python in c:\\users\\bbd14\\anaconda3\\lib\\site-packages (from mediapipe) (4.9.0.80)\n",
      "Requirement already satisfied: protobuf<4,>=3.11 in c:\\users\\bbd14\\anaconda3\\lib\\site-packages (from mediapipe) (3.20.3)\n",
      "Requirement already satisfied: sounddevice>=0.4.4 in c:\\users\\bbd14\\anaconda3\\lib\\site-packages (from mediapipe) (0.4.6)\n",
      "Requirement already satisfied: CFFI>=1.0 in c:\\users\\bbd14\\anaconda3\\lib\\site-packages (from sounddevice>=0.4.4->mediapipe) (1.15.1)\n",
      "Requirement already satisfied: ml-dtypes>=0.2.0 in c:\\users\\bbd14\\anaconda3\\lib\\site-packages (from jax->mediapipe) (0.3.2)\n",
      "Requirement already satisfied: opt-einsum in c:\\users\\bbd14\\anaconda3\\lib\\site-packages (from jax->mediapipe) (3.3.0)\n",
      "Requirement already satisfied: scipy>=1.9 in c:\\users\\bbd14\\anaconda3\\lib\\site-packages (from jax->mediapipe) (1.11.1)\n",
      "Requirement already satisfied: contourpy>=1.0.1 in c:\\users\\bbd14\\anaconda3\\lib\\site-packages (from matplotlib->mediapipe) (1.0.5)\n",
      "Requirement already satisfied: cycler>=0.10 in c:\\users\\bbd14\\anaconda3\\lib\\site-packages (from matplotlib->mediapipe) (0.11.0)\n",
      "Requirement already satisfied: fonttools>=4.22.0 in c:\\users\\bbd14\\anaconda3\\lib\\site-packages (from matplotlib->mediapipe) (4.25.0)\n",
      "Requirement already satisfied: kiwisolver>=1.0.1 in c:\\users\\bbd14\\anaconda3\\lib\\site-packages (from matplotlib->mediapipe) (1.4.4)\n",
      "Requirement already satisfied: packaging>=20.0 in c:\\users\\bbd14\\anaconda3\\lib\\site-packages (from matplotlib->mediapipe) (23.1)\n",
      "Requirement already satisfied: pillow>=6.2.0 in c:\\users\\bbd14\\anaconda3\\lib\\site-packages (from matplotlib->mediapipe) (10.2.0)\n",
      "Requirement already satisfied: pyparsing<3.1,>=2.3.1 in c:\\users\\bbd14\\anaconda3\\lib\\site-packages (from matplotlib->mediapipe) (3.0.9)\n",
      "Requirement already satisfied: python-dateutil>=2.7 in c:\\users\\bbd14\\anaconda3\\lib\\site-packages (from matplotlib->mediapipe) (2.8.2)\n",
      "Requirement already satisfied: pycparser in c:\\users\\bbd14\\anaconda3\\lib\\site-packages (from CFFI>=1.0->sounddevice>=0.4.4->mediapipe) (2.21)\n",
      "Requirement already satisfied: six>=1.5 in c:\\users\\bbd14\\anaconda3\\lib\\site-packages (from python-dateutil>=2.7->matplotlib->mediapipe) (1.16.0)\n"
     ]
    }
   ],
   "source": [
    "!pip install mediapipe opencv-python"
   ]
  },
  {
   "cell_type": "code",
   "execution_count": 79,
   "id": "a66f5312-017a-408a-993d-7ecb44479042",
   "metadata": {
    "tags": []
   },
   "outputs": [],
   "source": [
    "import cv2\n",
    "import mediapipe as mp\n",
    "import numpy as np\n",
    "mp_drawing = mp.solutions.drawing_utils\n",
    "mp_pose = mp.solutions.pose"
   ]
  },
  {
   "cell_type": "code",
   "execution_count": 81,
   "id": "6561abcd-0936-47ea-bee1-dbdea08e3c90",
   "metadata": {
    "tags": []
   },
   "outputs": [],
   "source": [
    "def resize_frame(frame):\n",
    "    # Define the maximum width and height\n",
    "    max_width = 800  # Adjust this according to your preference\n",
    "    max_height = 600  # Adjust this according to your preference\n",
    "\n",
    "    # Get the current width and height of the frame\n",
    "    height, width, _ = frame.shape\n",
    "\n",
    "    # Calculate the aspect ratio\n",
    "    aspect_ratio = width / height\n",
    "\n",
    "    # Calculate new dimensions while maintaining aspect ratio\n",
    "    if width > height:\n",
    "        new_width = min(width, max_width)\n",
    "        new_height = int(new_width / aspect_ratio)\n",
    "    else:\n",
    "        new_height = min(height, max_height)\n",
    "        new_width = int(new_height * aspect_ratio)\n",
    "\n",
    "    # Resize the frame\n",
    "    resized_frame = cv2.resize(frame, (new_width, new_height))\n",
    "    return resized_frame"
   ]
  },
  {
   "cell_type": "code",
   "execution_count": 103,
   "id": "f628f49e-2500-4e07-bdec-c0907027ee7a",
   "metadata": {
    "tags": []
   },
   "outputs": [],
   "source": [
    "# VIDEO FILE\n",
    "#wrong position video::\n",
    "video_file = r\"C:\\FilesBeth15022024\\ludus project dataset\\dataset_warriorSlap_ludus-20240330T195138Z-001\\dataset_warriorSlap_ludus\\warrior_slap_videos\\VID_20240315_154800.mp4\"\n",
    "\n",
    "#right position video:\n",
    "#video_file = r\"C:\\FilesBeth15022024\\ludus project dataset\\dataset_warriorSlap_ludus-20240330T195138Z-001\\dataset_warriorSlap_ludus\\warrior_slap_videos\\VID_20240315_154836.mp4\"\n",
    "\n",
    "#video_file = r\"C:\\FilesBeth15022024\\ludus project dataset\\dataset_warriorSlap_ludus-20240330T195138Z-001\\dataset_warriorSlap_ludus\\warrior_slap_videos\\VID_20240315_155139.mp4\"\n",
    "\n",
    "#video_file = r\"C:\\FilesBeth15022024\\ludus project dataset\\dataset_warriorSlap_ludus-20240330T195138Z-001\\dataset_warriorSlap_ludus\\warrior_slap_videos\\VID_20240315_154735.mp4\"\n",
    "\n",
    "\n",
    "cap = cv2.VideoCapture(video_file)\n",
    "\n",
    "while cap.isOpened():\n",
    "    ret, frame = cap.read()\n",
    "    if not ret:\n",
    "        break\n",
    "\n",
    "    resized_frame = resize_frame(frame)\n",
    "\n",
    "    cv2.imshow('Mediapipe Feed', resized_frame)\n",
    "\n",
    "    if cv2.waitKey(10) & 0xFF == ord('q'):\n",
    "        break\n",
    "\n",
    "cap.release()\n",
    "cv2.destroyAllWindows()"
   ]
  },
  {
   "cell_type": "markdown",
   "id": "7ba6525d-8dd0-41a0-85e7-6fef5bc6490b",
   "metadata": {
    "tags": []
   },
   "source": [
    "# 1. MAKE DETECTIONS"
   ]
  },
  {
   "cell_type": "code",
   "execution_count": 83,
   "id": "bcf7728f-7832-4be8-a1cd-88ebc45bbb92",
   "metadata": {
    "tags": []
   },
   "outputs": [],
   "source": [
    "cap = cv2.VideoCapture(video_file)\n",
    "# Setup mediapipe instance\n",
    "with mp_pose.Pose(min_detection_confidence=0.5, min_tracking_confidence=0.5) as pose:\n",
    "    while cap.isOpened():\n",
    "        ret, frame = cap.read()\n",
    "        if not ret:\n",
    "            break\n",
    "        \n",
    "        resized_frame = resize_frame(frame)\n",
    "        # Recolor image to RGB\n",
    "        image = cv2.cvtColor(resized_frame, cv2.COLOR_BGR2RGB)\n",
    "        image.flags.writeable = False\n",
    "      \n",
    "        # Make detection\n",
    "        results = pose.process(image)\n",
    "    \n",
    "        # Recolor back to BGR\n",
    "        image.flags.writeable = True\n",
    "        image = cv2.cvtColor(image, cv2.COLOR_RGB2BGR)\n",
    "        \n",
    "        # Render detections\n",
    "        mp_drawing.draw_landmarks(image, results.pose_landmarks, mp_pose.POSE_CONNECTIONS,\n",
    "                                mp_drawing.DrawingSpec(color=(245,117,66), thickness=2, circle_radius=2), \n",
    "                                mp_drawing.DrawingSpec(color=(245,66,230), thickness=2, circle_radius=2) \n",
    "                                 )               \n",
    "        \n",
    "        cv2.imshow('Mediapipe Feed', image)\n",
    "\n",
    "        if cv2.waitKey(10) & 0xFF == ord('q'):\n",
    "            break\n",
    "\n",
    "    cap.release()\n",
    "    cv2.destroyAllWindows()"
   ]
  },
  {
   "cell_type": "markdown",
   "id": "9fef8ea3-bd99-49c6-af4d-c7911377ae44",
   "metadata": {},
   "source": [
    "# JOINTS"
   ]
  },
  {
   "cell_type": "markdown",
   "id": "02bc3210-81f9-48aa-8cc2-51cde99bc30b",
   "metadata": {},
   "source": [
    "Reference image:"
   ]
  },
  {
   "cell_type": "markdown",
   "id": "9f8b8f0f-43a5-42b3-ab40-15a0b8f11898",
   "metadata": {
    "tags": []
   },
   "source": [
    "<img src = \"https://i.imgur.com/3j8BPdc.png\" style = \"height : 300px\">"
   ]
  },
  {
   "cell_type": "code",
   "execution_count": 84,
   "id": "2dadb934-fe30-4329-b0b7-9051dcc0e99a",
   "metadata": {
    "tags": []
   },
   "outputs": [],
   "source": [
    "cap = cv2.VideoCapture(video_file)\n",
    "# Setup mediapipe instance\n",
    "with mp_pose.Pose(min_detection_confidence=0.5, min_tracking_confidence=0.5) as pose:\n",
    "    while cap.isOpened():\n",
    "        ret, frame = cap.read()\n",
    "        if not ret:\n",
    "            break\n",
    "        \n",
    "        resized_frame = resize_frame(frame)\n",
    "        # Recolor image to RGB\n",
    "        image = cv2.cvtColor(resized_frame, cv2.COLOR_BGR2RGB)\n",
    "        image.flags.writeable = False\n",
    "      \n",
    "        # Make detection\n",
    "        results = pose.process(image)\n",
    "    \n",
    "        # Recolor back to BGR\n",
    "        image.flags.writeable = True\n",
    "        image = cv2.cvtColor(image, cv2.COLOR_RGB2BGR)\n",
    "        \n",
    "                \n",
    "        # Extract landmarks\n",
    "        try:\n",
    "            landmarks = results.pose_landmarks.landmark\n",
    "        except:\n",
    "            pass\n",
    "        \n",
    "        \n",
    "        # Render detections\n",
    "        mp_drawing.draw_landmarks(image, results.pose_landmarks, mp_pose.POSE_CONNECTIONS,\n",
    "                                mp_drawing.DrawingSpec(color=(245,117,66), thickness=2, circle_radius=2), \n",
    "                                mp_drawing.DrawingSpec(color=(245,66,230), thickness=2, circle_radius=2) \n",
    "                                 )               \n",
    "        \n",
    "        cv2.imshow('Mediapipe Feed', image)\n",
    "\n",
    "        if cv2.waitKey(10) & 0xFF == ord('q'):\n",
    "            break\n",
    "\n",
    "    cap.release()\n",
    "    cv2.destroyAllWindows()"
   ]
  },
  {
   "cell_type": "markdown",
   "id": "e8fe60f7-671c-44da-b6bd-441bc15d196d",
   "metadata": {
    "tags": []
   },
   "source": [
    "# Calculate angles"
   ]
  },
  {
   "cell_type": "code",
   "execution_count": 85,
   "id": "8b4f4cd4-dbed-4584-9111-713a5e3cc25e",
   "metadata": {
    "tags": []
   },
   "outputs": [],
   "source": [
    "def calculate_angle(a,b,c):\n",
    "    a = np.array(a) # First\n",
    "    b = np.array(b) # Mid\n",
    "    c = np.array(c) # End\n",
    "    \n",
    "    radians = np.arctan2(c[1]-b[1], c[0]-b[0]) - np.arctan2(a[1]-b[1], a[0]-b[0])\n",
    "    angle = np.abs(radians*180.0/np.pi)\n",
    "    \n",
    "    if angle >180.0:\n",
    "        angle = 360-angle\n",
    "        \n",
    "    return angle "
   ]
  },
  {
   "cell_type": "code",
   "execution_count": 86,
   "id": "90105de8-d545-4447-b4c2-9275c2e8cabd",
   "metadata": {
    "tags": []
   },
   "outputs": [],
   "source": [
    "# left_shoulder = [landmarks[mp_pose.PoseLandmark.LEFT_SHOULDER.value].x,landmarks[mp_pose.PoseLandmark.LEFT_SHOULDER.value].y]\n",
    "# left_elbow = [landmarks[mp_pose.PoseLandmark.LEFT_ELBOW.value].x,landmarks[mp_pose.PoseLandmark.LEFT_ELBOW.value].y]\n",
    "# left_wrist = [landmarks[mp_pose.PoseLandmark.LEFT_WRIST.value].x,landmarks[mp_pose.PoseLandmark.LEFT_WRIST.value].y]\n",
    "# left_waist = [landmarks[mp_pose.PoseLandmark.LEFT_HIP.value].x,landmarks[mp_pose.PoseLandmark.LEFT_HIP.value].y]\n",
    "\n",
    "\n",
    "# right_shoulder = [landmarks[mp_pose.PoseLandmark.RIGHT_SHOULDER.value].x,landmarks[mp_pose.PoseLandmark.RIGHT_SHOULDER.value].y]\n",
    "# right_elbow = [landmarks[mp_pose.PoseLandmark.RIGHT_ELBOW.value].x,landmarks[mp_pose.PoseLandmark.RIGHT_ELBOW.value].y]\n",
    "# right_wrist = [landmarks[mp_pose.PoseLandmark.RIGHT_WRIST.value].x,landmarks[mp_pose.PoseLandmark.RIGHT_WRIST.value].y]\n",
    "# right_waist = [landmarks[mp_pose.PoseLandmark.RIGHT_HIP.value].x,landmarks[mp_pose.PoseLandmark.RIGHT_HIP.value].y]\n",
    "\n"
   ]
  },
  {
   "cell_type": "code",
   "execution_count": 87,
   "id": "14bd2de4-1531-4366-88dc-8b42196dfead",
   "metadata": {
    "tags": []
   },
   "outputs": [],
   "source": [
    "# right_elbow_angle = calculate_angle(right_wrist, right_elbow, right_shoulder)\n",
    "# right_armpit_angle = calculate_angle(right_elbow, right_shoulder, right_waist)\n",
    "\n",
    "# left_elbow_angle = calculate_angle(left_wrist, left_elbow, left_shoulder)\n",
    "# left_armpit_angle = calculate_angle(left_elbow, left_shoulder, left_waist)\n"
   ]
  },
  {
   "cell_type": "code",
   "execution_count": 95,
   "id": "07c72a83-ac2b-478a-8642-a78064f28831",
   "metadata": {
    "tags": []
   },
   "outputs": [],
   "source": [
    "min_angle_elbow = 25\n",
    "max_angle_elbow = 50 \n",
    "\n",
    "min_angle_armpit = 110\n",
    "max_angle_armpit = 140"
   ]
  },
  {
   "cell_type": "code",
   "execution_count": 104,
   "id": "4712773d-9f12-4aa4-bf20-22a154366ce4",
   "metadata": {
    "tags": []
   },
   "outputs": [],
   "source": [
    "cap = cv2.VideoCapture(video_file)\n",
    "# Setup mediapipe instance\n",
    "with mp_pose.Pose(min_detection_confidence=0.5, min_tracking_confidence=0.5) as pose:\n",
    "    while cap.isOpened():\n",
    "        ret, frame = cap.read()\n",
    "        if not ret:\n",
    "            break\n",
    "        \n",
    "        resized_frame = resize_frame(frame)\n",
    "        # Recolor image to RGB\n",
    "        image = cv2.cvtColor(resized_frame, cv2.COLOR_BGR2RGB)\n",
    "        image.flags.writeable = False\n",
    "      \n",
    "        # Make detection\n",
    "        results = pose.process(image)\n",
    "    \n",
    "        # Recolor back to BGR\n",
    "        image.flags.writeable = True\n",
    "        image = cv2.cvtColor(image, cv2.COLOR_RGB2BGR)\n",
    "        \n",
    "                \n",
    "        # Extract landmarks\n",
    "        try:\n",
    "            landmarks = results.pose_landmarks.landmark\n",
    "\n",
    "            # Get coordinates for left:\n",
    "            left_shoulder = [landmarks[mp_pose.PoseLandmark.LEFT_SHOULDER.value].x, landmarks[mp_pose.PoseLandmark.LEFT_SHOULDER.value].y]\n",
    "            left_elbow = [landmarks[mp_pose.PoseLandmark.LEFT_ELBOW.value].x, landmarks[mp_pose.PoseLandmark.LEFT_ELBOW.value].y]\n",
    "            left_wrist = [landmarks[mp_pose.PoseLandmark.LEFT_WRIST.value].x, landmarks[mp_pose.PoseLandmark.LEFT_WRIST.value].y]\n",
    "            left_waist = [landmarks[mp_pose.PoseLandmark.LEFT_HIP.value].x, landmarks[mp_pose.PoseLandmark.LEFT_HIP.value].y]\n",
    "            # Get coordinates for right:\n",
    "            right_shoulder = [landmarks[mp_pose.PoseLandmark.RIGHT_SHOULDER.value].x, landmarks[mp_pose.PoseLandmark.RIGHT_SHOULDER.value].y]\n",
    "            right_elbow = [landmarks[mp_pose.PoseLandmark.RIGHT_ELBOW.value].x, landmarks[mp_pose.PoseLandmark.RIGHT_ELBOW.value].y]\n",
    "            right_wrist = [landmarks[mp_pose.PoseLandmark.RIGHT_WRIST.value].x, landmarks[mp_pose.PoseLandmark.RIGHT_WRIST.value].y]\n",
    "            right_waist = [landmarks[mp_pose.PoseLandmark.RIGHT_HIP.value].x, landmarks[mp_pose.PoseLandmark.RIGHT_HIP.value].y]\n",
    "\n",
    "            # Calculate angles for both left and right:\n",
    "            right_elbow_angle = calculate_angle(right_wrist, right_elbow, right_shoulder)\n",
    "            right_armpit_angle = calculate_angle(right_elbow, right_shoulder, right_waist)\n",
    "\n",
    "            left_elbow_angle = calculate_angle(left_wrist, left_elbow, left_shoulder)\n",
    "            left_armpit_angle = calculate_angle(left_elbow, left_shoulder, left_waist)\n",
    "            \n",
    "            if min_angle_elbow <= right_elbow_angle <= max_angle_elbow and min_angle_armpit <= right_armpit_angle <= max_angle_armpit:\n",
    "                text_color = (255, 255, 255)  # White color\n",
    "            else:\n",
    "                text_color = (0, 0, 255)  # Red color\n",
    "\n",
    "            # Visualizing the angles: \n",
    "            cv2.putText(image, \"Right Elbow: {}\".format(int(right_elbow_angle)), \n",
    "                       tuple(np.multiply(right_elbow, [350, 600]).astype(int)), \n",
    "                       cv2.FONT_HERSHEY_SIMPLEX, 0.2, text_color, 1, cv2.LINE_AA)\n",
    "\n",
    "            cv2.putText(image, \"Right Armpit: {}\".format(int(right_armpit_angle)), \n",
    "                       tuple(np.multiply(right_shoulder, [350, 600]).astype(int)), \n",
    "                       cv2.FONT_HERSHEY_SIMPLEX, 0.2, text_color, 1, cv2.LINE_AA)\n",
    "\n",
    "            cv2.putText(image, \"Left Elbow: {}\".format(int(left_elbow_angle)), \n",
    "                       tuple(np.multiply(left_elbow, [100, 600]).astype(int)), \n",
    "                       cv2.FONT_HERSHEY_SIMPLEX, 0.2, text_color, 1, cv2.LINE_AA)\n",
    "\n",
    "            cv2.putText(image, \"Left Armpit: {}\".format(int(left_armpit_angle)), \n",
    "                       tuple(np.multiply(left_shoulder, [100, 600]).astype(int)), \n",
    "                       cv2.FONT_HERSHEY_SIMPLEX, 0.2, text_color, 1, cv2.LINE_AA)\n",
    "\n",
    "        except:\n",
    "            pass\n",
    "        \n",
    "        \n",
    "        # Render detections\n",
    "        mp_drawing.draw_landmarks(image, results.pose_landmarks, mp_pose.POSE_CONNECTIONS,\n",
    "                                mp_drawing.DrawingSpec(color=(245,117,66), thickness=2, circle_radius=2), \n",
    "                                mp_drawing.DrawingSpec(color=(245,66,230), thickness=2, circle_radius=2) \n",
    "                                 )               \n",
    "        \n",
    "        cv2.imshow('Mediapipe Feed', image)\n",
    "\n",
    "        if cv2.waitKey(10) & 0xFF == ord('q'):\n",
    "            break\n",
    "\n",
    "    cap.release()\n",
    "    cv2.destroyAllWindows()"
   ]
  },
  {
   "cell_type": "code",
   "execution_count": null,
   "id": "3deabfaa-17b5-4989-b3e4-2f63018dbe7e",
   "metadata": {},
   "outputs": [],
   "source": []
  }
 ],
 "metadata": {
  "kernelspec": {
   "display_name": "Python 3 (ipykernel)",
   "language": "python",
   "name": "python3"
  },
  "language_info": {
   "codemirror_mode": {
    "name": "ipython",
    "version": 3
   },
   "file_extension": ".py",
   "mimetype": "text/x-python",
   "name": "python",
   "nbconvert_exporter": "python",
   "pygments_lexer": "ipython3",
   "version": "3.11.5"
  }
 },
 "nbformat": 4,
 "nbformat_minor": 5
}
