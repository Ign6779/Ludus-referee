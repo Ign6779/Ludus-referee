{
 "cells": [
  {
   "cell_type": "code",
   "execution_count": 18,
   "id": "ed76aad0-3fcb-4a57-8c48-b629a64cfe7c",
   "metadata": {
    "tags": []
   },
   "outputs": [
    {
     "name": "stdout",
     "output_type": "stream",
     "text": [
      "NumPy already installed, only imported\n",
      "PyPlot already installed, only imported\n",
      "pandas already installed, only imported\n"
     ]
    }
   ],
   "source": [
    "# enter here all those 'from .... import ....'\n",
    "\n",
    "# numpy as np\n",
    "try:\n",
    "    import numpy as np\n",
    "    print('NumPy already installed, only imported')\n",
    "except:\n",
    "    !pip install numpy\n",
    "    import numpy as np\n",
    "    print('NumPy was not installed, installed and imported')\n",
    "      \n",
    "# pyplot as plt\n",
    "try:\n",
    "    import matplotlib.pyplot as plt\n",
    "    print('PyPlot already installed, only imported')\n",
    "except:\n",
    "    !pip install matplotlib\n",
    "    import matplotlib.pyplot as plt\n",
    "    print('PyPlot was not installed, installed and imported')\n",
    "\n",
    "# pandas as pd   \n",
    "try:\n",
    "    import pandas as pd\n",
    "    print('pandas already installed, only imported')\n",
    "except:\n",
    "    !pip install pandas\n",
    "    import pandas as pd\n",
    "    print('pandas was not installed, installed and imported')    \n",
    "\n",
    "try:\n",
    "    import matplotlib.pyplot as plt\n",
    "except ImportError:\n",
    "    !pip install matplotlib\n",
    "    import matplotlib.pyplot as plt\n",
    "\n",
    "try:\n",
    "    import pandas as pd\n",
    "except ImportError:\n",
    "    !pip install pandas\n",
    "    import pandas as pd\n",
    "\n",
    "try:\n",
    "    import seaborn as sns\n",
    "except ImportError:\n",
    "    !pip install seaborn\n",
    "    import seaborn as sns\n",
    "\n",
    "try:\n",
    "    import cv2\n",
    "except ImportError:\n",
    "    !pip install opencv-python\n",
    "    import cv2"
   ]
  },
  {
   "cell_type": "code",
   "execution_count": 19,
   "id": "6753106e-66c7-41ec-8965-959cf232e166",
   "metadata": {
    "tags": []
   },
   "outputs": [
    {
     "data": {
      "text/html": [
       "<div>\n",
       "<style scoped>\n",
       "    .dataframe tbody tr th:only-of-type {\n",
       "        vertical-align: middle;\n",
       "    }\n",
       "\n",
       "    .dataframe tbody tr th {\n",
       "        vertical-align: top;\n",
       "    }\n",
       "\n",
       "    .dataframe thead th {\n",
       "        text-align: right;\n",
       "    }\n",
       "</style>\n",
       "<table border=\"1\" class=\"dataframe\">\n",
       "  <thead>\n",
       "    <tr style=\"text-align: right;\">\n",
       "      <th></th>\n",
       "      <th>frame_name</th>\n",
       "      <th>correct/incorrect</th>\n",
       "    </tr>\n",
       "  </thead>\n",
       "  <tbody>\n",
       "    <tr>\n",
       "      <th>0</th>\n",
       "      <td>frame1.jpg</td>\n",
       "      <td>correct</td>\n",
       "    </tr>\n",
       "    <tr>\n",
       "      <th>1</th>\n",
       "      <td>frame2.jpg</td>\n",
       "      <td>correct</td>\n",
       "    </tr>\n",
       "    <tr>\n",
       "      <th>2</th>\n",
       "      <td>frame3.jpg</td>\n",
       "      <td>correct</td>\n",
       "    </tr>\n",
       "    <tr>\n",
       "      <th>3</th>\n",
       "      <td>frame4.jpg</td>\n",
       "      <td>correct</td>\n",
       "    </tr>\n",
       "    <tr>\n",
       "      <th>4</th>\n",
       "      <td>frame5.jpg</td>\n",
       "      <td>incorrect</td>\n",
       "    </tr>\n",
       "  </tbody>\n",
       "</table>\n",
       "</div>"
      ],
      "text/plain": [
       "   frame_name correct/incorrect\n",
       "0  frame1.jpg           correct\n",
       "1  frame2.jpg           correct\n",
       "2  frame3.jpg           correct\n",
       "3  frame4.jpg           correct\n",
       "4  frame5.jpg         incorrect"
      ]
     },
     "execution_count": 19,
     "metadata": {},
     "output_type": "execute_result"
    }
   ],
   "source": [
    "file_folder = r\"C:\\FilesBeth15022024\\frames\\dominiks_data\"  # List of file paths\n",
    "labels_file = r\"C:\\FilesBeth15022024\\needed_data\\dataset_csv_labeling.csv\"  # List of corresponding labels\n",
    "\n",
    "labels_df = pd.read_csv(labels_file, delimiter=';')\n",
    "\n",
    "labels_df.head()"
   ]
  },
  {
   "cell_type": "code",
   "execution_count": 20,
   "id": "0e00cfeb-d166-47f0-9ba5-355b23c3406e",
   "metadata": {
    "tags": []
   },
   "outputs": [],
   "source": [
    "images = []\n",
    "target_labels = []"
   ]
  },
  {
   "cell_type": "code",
   "execution_count": 21,
   "id": "36cad58d-82f3-4942-91c4-7241ca4b196b",
   "metadata": {
    "tags": []
   },
   "outputs": [],
   "source": [
    "# Iterate through each row in the labels DataFrame\n",
    "for index, row in labels_df.iterrows():\n",
    "    frame_name = row['frame_name']\n",
    "    correct_or_incorrect = row['correct/incorrect']\n",
    "\n",
    "    # Construct the full file path for the image\n",
    "    file_path = os.path.join(file_folder, frame_name)\n",
    "\n",
    "    # Define the desired height and width for resizing\n",
    "    height = 2048  # Example height\n",
    "    width = 1536   # Example width\n",
    "\n",
    "    # Read image\n",
    "    image = cv2.imread(file_path)\n",
    "\n",
    "    # Check if the image was successfully loaded\n",
    "    if image is None:\n",
    "        print(\"Error: Unable to read image:\", file_path)\n",
    "    else:\n",
    "        # Resize image to the desired dimensions\n",
    "        resized_image = cv2.resize(image, (width, height))\n",
    "\n",
    "        # Normalize image (if needed)\n",
    "        resized_image = resized_image / 255.0  # Example normalization\n",
    "\n",
    "        # Append resized image to the list\n",
    "        images.append(resized_image)\n",
    "    target_labels.append(correct_or_incorrect)\n",
    "\n",
    "# Convert lists to NumPy arrays\n",
    "X = np.array(images)\n",
    "y = np.array(target_labels)"
   ]
  },
  {
   "cell_type": "code",
   "execution_count": 31,
   "id": "0a9950f7-e674-4537-b9b2-246b7ac29f11",
   "metadata": {
    "tags": []
   },
   "outputs": [
    {
     "name": "stdout",
     "output_type": "stream",
     "text": [
      "X_train shape: (91, 2048, 1536, 3)\n",
      "X_test shape: (40, 2048, 1536, 3)\n",
      "y_train shape: (91,)\n",
      "y_test shape: (40,)\n"
     ]
    }
   ],
   "source": [
    "from sklearn.model_selection import train_test_split\n",
    "\n",
    "# Split the data into training and testing sets (70% train, 30% test)\n",
    "X_train, X_test, y_train, y_test = train_test_split(X, y, test_size=0.3, random_state=4)\n",
    "\n",
    "# Print the shapes of the resulting sets\n",
    "print(\"X_train shape:\", X_train.shape)\n",
    "print(\"X_test shape:\", X_test.shape)\n",
    "print(\"y_train shape:\", y_train.shape)\n",
    "print(\"y_test shape:\", y_test.shape)\n"
   ]
  },
  {
   "cell_type": "code",
   "execution_count": 32,
   "id": "3396cedf-43b0-44ba-bd6d-96bedaf8436a",
   "metadata": {
    "tags": []
   },
   "outputs": [],
   "source": [
    "from sklearn.dummy import DummyClassifier\n",
    "from sklearn.metrics import confusion_matrix"
   ]
  },
  {
   "cell_type": "code",
   "execution_count": 33,
   "id": "8842bfb8-8df2-42f8-bf75-90d828ac8e4d",
   "metadata": {
    "tags": []
   },
   "outputs": [
    {
     "name": "stdout",
     "output_type": "stream",
     "text": [
      "Most Frequent dummy classifier accuracy: 0.55\n"
     ]
    },
    {
     "data": {
      "image/png": "[encoded data removed]",
      "text/plain": [
       "<Figure size 1500x400 with 1 Axes>"
      ]
     },
     "metadata": {},
     "output_type": "display_data"
    }
   ],
   "source": [
    "dummy_most_frequent = DummyClassifier(strategy=\"most_frequent\", random_state=42)\n",
    "dummy_most_frequent.fit(X_train, y_train)\n",
    "accuracy_most_frequent = dummy_most_frequent.score(X_test, y_test)\n",
    "cm_most_frequent = confusion_matrix(y_test, dummy_most_frequent.predict(X_test))\n",
    "\n",
    "# Plot confusion matrix for most frequent dummy classifier\n",
    "print(\"Most Frequent dummy classifier accuracy:\", accuracy_most_frequent)\n",
    "plt.figure(figsize=(15, 4))\n",
    "plt.subplot(1, 3, 1)\n",
    "sns.heatmap(cm_most_frequent, annot=True, fmt=\"d\", cmap=\"Blues\", cbar=False, \n",
    "            xticklabels=['Correct', 'Incorrect'], yticklabels=['Correct', 'Incorrect'])\n",
    "plt.title(\"Confusion Matrix - Most Frequent Dummy Classifier\")\n",
    "plt.xlabel(\"Predicted Label\")\n",
    "plt.ylabel(\"True Label\")\n",
    "plt.show()"
   ]
  },
  {
   "cell_type": "code",
   "execution_count": 42,
   "id": "4bd72781-b2a1-4537-a721-ab362bc17038",
   "metadata": {
    "tags": []
   },
   "outputs": [
    {
     "name": "stdout",
     "output_type": "stream",
     "text": [
      "Stratified dummy classifier accuracy: 0.525\n"
     ]
    },
    {
     "data": {
      "image/png": "[encoded data removed]",
      "text/plain": [
       "<Figure size 1500x400 with 1 Axes>"
      ]
     },
     "metadata": {},
     "output_type": "display_data"
    }
   ],
   "source": [
    "dummy_stratified = DummyClassifier(strategy=\"stratified\")  \n",
    "dummy_stratified.fit(X_train, y_train)\n",
    "accuracy_stratified = dummy_stratified.score(X_test, y_test)\n",
    "cm_stratified = confusion_matrix(y_test, dummy_stratified.predict(X_test))\n",
    "\n",
    "# Plot confusion matrix for stratified dummy classifier\n",
    "print(\"Stratified dummy classifier accuracy:\", accuracy_stratified)\n",
    "plt.figure(figsize=(15, 4))\n",
    "plt.subplot(1, 3, 2)\n",
    "sns.heatmap(cm_stratified, annot=True, fmt=\"d\", cmap=\"Blues\", cbar=False, \n",
    "            xticklabels=['Correct', 'Incorrect'], yticklabels=['Correct', 'Incorrect'])\n",
    "plt.title(\"Confusion Matrix - Stratified Dummy Classifier\")\n",
    "plt.xlabel(\"Predicted Label\")\n",
    "plt.ylabel(\"True Label\")\n",
    "plt.show()"
   ]
  },
  {
   "cell_type": "code",
   "execution_count": 43,
   "id": "2219ddb8-ceda-4740-a15c-e332afee2b17",
   "metadata": {
    "tags": []
   },
   "outputs": [
    {
     "name": "stdout",
     "output_type": "stream",
     "text": [
      "Uniform dummy classifier accuracy: 0.6\n"
     ]
    },
    {
     "data": {
      "image/png": "[encoded data removed]",
      "text/plain": [
       "<Figure size 1500x400 with 1 Axes>"
      ]
     },
     "metadata": {},
     "output_type": "display_data"
    }
   ],
   "source": [
    "dummy_uniform = DummyClassifier(strategy=\"uniform\", random_state=42)\n",
    "dummy_uniform.fit(X_train, y_train)\n",
    "accuracy_uniform = dummy_uniform.score(X_test, y_test)\n",
    "cm_uniform = confusion_matrix(y_test, dummy_uniform.predict(X_test))\n",
    "\n",
    "# Plot confusion matrix for uniform dummy classifier\n",
    "print(\"Uniform dummy classifier accuracy:\", accuracy_uniform)\n",
    "plt.figure(figsize=(15, 4))\n",
    "plt.subplot(1, 3, 3)\n",
    "sns.heatmap(cm_uniform, annot=True, fmt=\"d\", cmap=\"Blues\", cbar=False, \n",
    "            xticklabels=['Correct', 'Incorrect'], yticklabels=['Correct', 'Incorrect'])\n",
    "plt.title(\"Confusion Matrix - Uniform Dummy Classifier\")\n",
    "plt.xlabel(\"Predicted Label\")\n",
    "plt.ylabel(\"True Label\")\n",
    "plt.show()"
   ]
  }
 ],
 "metadata": {
  "kernelspec": {
   "display_name": "Python 3 (ipykernel)",
   "language": "python",
   "name": "python3"
  },
  "language_info": {
   "codemirror_mode": {
    "name": "ipython",
    "version": 3
   },
   "file_extension": ".py",
   "mimetype": "text/x-python",
   "name": "python",
   "nbconvert_exporter": "python",
   "pygments_lexer": "ipython3",
   "version": "3.11.5"
  }
 },
 "nbformat": 4,
 "nbformat_minor": 5
}
